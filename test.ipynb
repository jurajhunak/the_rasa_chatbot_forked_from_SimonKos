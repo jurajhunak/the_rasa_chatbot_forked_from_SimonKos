{
 "cells": [
  {
   "cell_type": "code",
   "execution_count": null,
   "metadata": {},
   "outputs": [],
   "source": []
  }
 ],
 "metadata": {
  "kernelspec": {
   "display_name": "venv",
   "language": "python",
   "name": "python3"
  },
  "language_info": {
   "name": "python",
   "version": "3.8.10"
  },
  "orig_nbformat": 4,
  "vscode": {
   "interpreter": {
    "hash": "302b20088d8dda66d6ea15c4dae2b3a6e8f1363ef8ce0cf13ea3411bda279336"
   }
  }
 },
 "nbformat": 4,
 "nbformat_minor": 2
}
